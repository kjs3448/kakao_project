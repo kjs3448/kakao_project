{
 "cells": [
  {
   "cell_type": "code",
   "execution_count": 3,
   "metadata": {},
   "outputs": [],
   "source": [
    "import pandas as pd\n",
    "import numpy as np\n",
    "import csv\n",
    "import matplotlib.pyplot as plt\n",
    "import copy"
   ]
  },
  {
   "cell_type": "code",
   "execution_count": 4,
   "metadata": {},
   "outputs": [
    {
     "name": "stdout",
     "output_type": "stream",
     "text": [
      "['x1', 'x2', 'x3', 'x4', 'x5', 'x6', 'x7', 'x8', 'x9', 'x10', 'x11', 'x12', 'x13', 'x14', 'x15', 'y']\n"
     ]
    }
   ],
   "source": [
    "data = pd.read_csv('dataset\\dataset.tsv', delimiter = '\\t')\n",
    "print(list(data.columns.values))\n",
    "df = pd.DataFrame(data).T\n",
    "df2 = df.T"
   ]
  },
  {
   "cell_type": "code",
   "execution_count": 5,
   "metadata": {},
   "outputs": [],
   "source": [
    "# data mapping function check\n",
    "x2_mapping_data = {label:idx for idx, label in enumerate(np.unique(df2['x2']))}\n",
    "x3_mapping_data = {label:idx for idx, label in enumerate(np.unique(df2['x3']))}\n",
    "x4_mapping_data = {label:idx for idx, label in enumerate(np.unique(df2['x4']))}\n",
    "x5_mapping_data = {label:idx for idx, label in enumerate(np.unique(df2['x5']))}\n",
    "x7_mapping_data = {label:idx for idx, label in enumerate(np.unique(df2['x7']))}\n",
    "x8_mapping_data = {label:idx for idx, label in enumerate(np.unique(df2['x8']))}\n",
    "x9_mapping_data = {label:idx for idx, label in enumerate(np.unique(df2['x9']))}\n",
    "x11_mapping_data = {label:idx for idx, label in enumerate(np.unique(df2['x11']))}\n",
    "x15_mapping_data = {label:idx for idx, label in enumerate(np.unique(df2['x15']))}\n",
    "y_mapping_data = {label:idx for idx, label in enumerate(np.unique(df2['y']))}"
   ]
  },
  {
   "cell_type": "markdown",
   "metadata": {},
   "source": [
    "## 데이터 전처리 - 1\n",
    " - 문자 데이터를 정수형 데이터로 변환 : df2"
   ]
  },
  {
   "cell_type": "code",
   "execution_count": 6,
   "metadata": {},
   "outputs": [],
   "source": [
    "# 범주형 데이터 정수 맵핑\n",
    "# 상기 mapping_data를 DEFAULT로 사용. 순서가 필요하거나 개념상 헷갈릴 수 있는 부분은 매뉴얼리 수정하여 적용\n",
    "# 결측치 제거: unknown 및 -1 제거 >> 제거하면 유의미한 데이터가 많이(32484개씩 사라지는 column 존재) 사라지므로 unknown을 0으로 맵핑하여 사용한다.\n",
    "\n",
    "x2_mapping = {\n",
    "    'unknown': 0,\n",
    "    'admin.' : 1,\n",
    "    'unemployed' : 2,\n",
    "    'management' : 3,\n",
    "    'housemaid' : 4,\n",
    "    'entrepreneur': 5,\n",
    "    'student': 6,\n",
    "    'blue-collar' : 7,\n",
    "    'self-employed': 8,\n",
    "    'retired':9,\n",
    "    'technician':10,\n",
    "    'services':11\n",
    "}\n",
    "x3_mapping = { 'married': 0, 'divorced': 1, 'single': 2 }\n",
    "x4_mapping = {'unknown': 0, '저학력': 1, '중학력': 2, '고학력': 3}\n",
    "x578_mapping = {'no': 0, 'yes':1}\n",
    "x9_mapping = {'unknown': 0, '유선':1, '무선':2 }\n",
    "x11_mapping = {\n",
    "    'jan':1, 'feb':2, 'mar':3, 'apr':4, 'may':5, 'jun':6, 'jul':7, 'aug':8, 'sep':9, 'oct':10, 'nov':11, 'dec':12\n",
    "}\n",
    "x15_mapping = {'unknown':0, 'failure':1, 'success':2, 'other':3 }\n",
    "y_mapping ={'no':0, 'yes':1}\n",
    "\n",
    "df2['x2'] = df2['x2'].map(x2_mapping)\n",
    "df2['x3'] = df2['x3'].map(x3_mapping)\n",
    "df2['x4'] = df2['x4'].map(x4_mapping)\n",
    "df2['x5'] = df2['x5'].map(x578_mapping)\n",
    "df2['x7'] = df2['x7'].map(x578_mapping)\n",
    "df2['x8'] = df2['x8'].map(x578_mapping)\n",
    "df2['x9'] = df2['x9'].map(x9_mapping)\n",
    "df2['x11'] = df2['x11'].map(x11_mapping)\n",
    "df2['x15'] = df2['x15'].map(x15_mapping)\n",
    "df2['y'] = df2['y'].map(y_mapping)\n",
    "\n",
    "df2.to_csv(\"quantize_alldata.csv\",mode = 'w')\n",
    "\n",
    "######## data 원래대로 reverse하는법\n",
    "#### inv_x2_mapping = {v: k for k, v in x2_mapping.items()}\n",
    "#### df2['x2'] = df2['x2'].map(inv_x2_mapping)"
   ]
  },
  {
   "cell_type": "markdown",
   "metadata": {},
   "source": [
    "## 데이터 전처리 - 2\n",
    " - 범주형 변수의 경우 dummy를 사용해서 바꿔줌 (x2, x3) \n",
    " - x2 >> x2_admin, x2_unemployed, x2_management, x2_housemaid, x2_entrepreneur, x2_ ...\n",
    " - 클러스터 사용할 때는 범주형 변수는 input에서 제외한다 (클러스터 실험결과 이 경우 설명력이 오히려 떨어짐) --> df_new2"
   ]
  },
  {
   "cell_type": "code",
   "execution_count": 7,
   "metadata": {},
   "outputs": [],
   "source": [
    "df_new = copy.deepcopy(df2)\n",
    "\n",
    "# x2, x3을 dummy로 만들어서 정의\n",
    "df2_x2 = pd.get_dummies(df_new['x2'], prefix='x2')\n",
    "df2_x3 = pd.get_dummies(df_new['x3'], prefix='x3')\n",
    "\n",
    "# x2, x3을 기존 dataframe에서 제외\n",
    "del df_new['x2']\n",
    "del df_new['x3']\n",
    "del df_new['y']\n",
    "\n",
    "# x2, x3 대신 dummy x2, x3을 병합\n",
    "df_new2 = pd.concat([df_new, df2_x2, df2_x3], axis=1)\n",
    "df_new2['y'] = df2['y']\n",
    "df_new2.to_csv(\"quantize_dummy_data.csv\",mode = 'w')"
   ]
  },
  {
   "cell_type": "markdown",
   "metadata": {},
   "source": [
    "## 데이터 전처리 - 3\n",
    "  - 데이터 정규화 (클러스터링을 할 때: Problem #1 )\n",
    "  - 데이터 표준화 (logistic regression을 할 때: problem #2)"
   ]
  },
  {
   "cell_type": "code",
   "execution_count": 8,
   "metadata": {},
   "outputs": [],
   "source": [
    "from sklearn.preprocessing import MinMaxScaler\n",
    "from sklearn.preprocessing import StandardScaler\n",
    "from pandas import DataFrame\n",
    "\n",
    "#### 정규화\n",
    "stdscaler = StandardScaler()\n",
    "scaled_data = stdscaler.fit_transform(df_new2.loc[:,'x1':'y']) ## for cluster\n",
    "column_names = df_new2.columns\n",
    "df_scale = DataFrame(data=scaled_data, columns = column_names)\n",
    "\n",
    "#### 표준화 (해당 데이터는 이번 파일이 아닌 문제2번에서 tensorflow input으로 사용한다)\n",
    "mmscaler = MinMaxScaler()\n",
    "scaled_data = mmscaler.fit_transform(df_new2.loc[:,'x1':'x3_2'])\n",
    "column_names = df_new2.columns\n",
    "data_for_learning = DataFrame(data=scaled_data)\n",
    "data_for_learning['y'] = df_new2['y']\n",
    "data_for_learning.columns = column_names\n",
    "#data_for_learning.to_csv(\"data_for_learning.csv\",mode = 'w')\n",
    "#scaled_data"
   ]
  },
  {
   "cell_type": "markdown",
   "metadata": {},
   "source": [
    "## 데이터 전처리 - 4\n",
    " - 표준화한 데이터를 training, test로 나누어서 저장"
   ]
  },
  {
   "cell_type": "code",
   "execution_count": 12,
   "metadata": {},
   "outputs": [],
   "source": [
    "from sklearn.model_selection import train_test_split\n",
    "train, test = train_test_split(data_for_learning, test_size = 0.3, random_state = 42)\n",
    "train.to_csv(\"data_for_training.csv\",mode = 'w')\n",
    "test.to_csv(\"data_for_test.csv\",mode = 'w')"
   ]
  },
  {
   "cell_type": "markdown",
   "metadata": {},
   "source": [
    "# 클러스터 (PCA 이후 K-means)\n",
    "## PCA >> 차원축소\n",
    " - PCA(주성분 분석)\n",
    "   : 약 80% 이상을 설명할 수 있는 인자들을 선택 (클러스터 계산 시 연산 속도 개선)\n",
    "   : 8개의 eigen vector 중에 몇개를 선택할 지 threshold를 잡음 (eigen value가 높은 녀석들 중 순서대로 eigen vector를 활용)\n",
    "   : 결과 분석 --> 79%를 2개의 pca 차원으로 설명 가능\n",
    " - 차원 축소 결과를 scatter해본 후 사용할만한 클러스터링 기법을 찾아본다"
   ]
  },
  {
   "cell_type": "code",
   "execution_count": 14,
   "metadata": {},
   "outputs": [
    {
     "name": "stdout",
     "output_type": "stream",
     "text": [
      "[0.53079367 0.79364576 0.94100786 0.9788908  0.9980195  1.        ]\n"
     ]
    }
   ],
   "source": [
    "scaled_input = scaled_data[:,[0,1,2,3,4,5]] # x1, x4, x5, x6, x7, x8의 input만 사용\n",
    "#scaled_input = scaled_data[:,[0,1,2,3,4,5,6,7,14,15,16,17,18,19,20,21,22,23,24,25,26,27]] # x1~x8의 input 모두 사용\n",
    "features = scaled_input.T\n",
    "covariance_matrix = np.cov(features)\n",
    "eig_vals, eig_vecs = np.linalg.eig(covariance_matrix)\n",
    "# eig value의 설명 분산 비율\n",
    "tot = sum(eig_vals)\n",
    "var_exp = [(i / tot) for i in sorted(eig_vals, reverse=True)]\n",
    "cum_var_exp = np.cumsum(var_exp)\n",
    "print(cum_var_exp)\n",
    "## 2개 dim으로 약 80% 설명 가능 (pc1, pc2 2개만 가지고 클러스터링) pc1 >> 53%, pc1 + pc2 >> 79%, pc1+pc2+pc3 >> 94%"
   ]
  },
  {
   "cell_type": "markdown",
   "metadata": {},
   "source": [
    "## 클러스터 탐색\n",
    "  - 클러스터 성능평가에 앞서 PCA로 축소한 차원의 데이터를 scatter해본다. (클러스터 기법 및 개수를 대략적으로 찾을 수 있다)"
   ]
  },
  {
   "cell_type": "code",
   "execution_count": 28,
   "metadata": {},
   "outputs": [
    {
     "data": {
      "text/plain": [
       "<matplotlib.collections.PathCollection at 0x14130e48>"
      ]
     },
     "execution_count": 28,
     "metadata": {},
     "output_type": "execute_result"
    },
    {
     "data": {
      "image/png": "[encoded data removed]",
      "text/plain": [
       "<matplotlib.figure.Figure at 0x10502630>"
      ]
     },
     "metadata": {},
     "output_type": "display_data"
    }
   ],
   "source": [
    "data_2d = sklearn_pca\n",
    "fig, ax = plt.subplots()\n",
    "ax.scatter(data_2d[:,0], data_2d[:,1])"
   ]
  },
  {
   "cell_type": "markdown",
   "metadata": {},
   "source": [
    "## 클러스터 방식: K-means\n",
    "  - 각 지점의 distance를 최소화 시키도록 중심점을 찾는 클러스터 방식을 선택한다 (K-means)\n",
    "\n",
    "## 클러스터 성능 평가 - 1\n",
    "  - K-means의 결과를 scatter 해본다\n",
    "  - 하기 결과는 4개의 클러스터를 선택할 경우, 중심점과 클러스터 모두 정상적으로 뽑아낸 것으로 추정됨"
   ]
  },
  {
   "cell_type": "code",
   "execution_count": 29,
   "metadata": {},
   "outputs": [
    {
     "data": {
      "text/plain": [
       "<matplotlib.collections.PathCollection at 0x1419e400>"
      ]
     },
     "execution_count": 29,
     "metadata": {},
     "output_type": "execute_result"
    },
    {
     "data": {
      "image/png": "[encoded data removed]",
      "text/plain": [
       "<matplotlib.figure.Figure at 0x10536c50>"
      ]
     },
     "metadata": {},
     "output_type": "display_data"
    }
   ],
   "source": [
    "from sklearn import metrics\n",
    "from sklearn import decomposition\n",
    "from sklearn.cluster import KMeans\n",
    "from time import time\n",
    "\n",
    "km_4 = KMeans(n_clusters=4, init='k-means++', random_state = 0).fit(data_2d)\n",
    "labels = km_4.labels_\n",
    "colors = ['black','red','blue','gold', 'darkgreen']\n",
    "col_map=dict(zip(set(labels),colors))\n",
    "label_color = [col_map[l] for l in labels]\n",
    "fig, ax = plt.subplots()\n",
    "ax.scatter(data_2d[:,0], data_2d[:,1], c=label_color)\n",
    "ax.scatter(km_4.cluster_centers_[:,0], km_4.cluster_centers_[:,1], marker='x', s=50, c='w')"
   ]
  },
  {
   "cell_type": "markdown",
   "metadata": {},
   "source": [
    "## 클러스터 성능평가 - 2\n",
    "  - 정량적(이론적)으로 측정가능한 클러스터 개수를 찾는다\n",
    "  - 적합한 K값을 선택하기 위해 1~30개의 cluster의 경우에 SSE 값의 추이를 관찰 (saturation 되는 지점을 k값으로 잡는다)\n",
    "  - SSE 추이를 살펴본 결과 상기 scatter 결과와 동일하게 4개의 클러스터로 묶는것이 적합해 보임"
   ]
  },
  {
   "cell_type": "code",
   "execution_count": 30,
   "metadata": {},
   "outputs": [
    {
     "data": {
      "image/png": "[encoded data removed]",
      "text/plain": [
       "<matplotlib.figure.Figure at 0xbcbe438>"
      ]
     },
     "metadata": {},
     "output_type": "display_data"
    }
   ],
   "source": [
    "pca1 = decomposition.PCA(n_components=2)\n",
    "sklearn_pca= pca1.fit_transform(scaled_input)\n",
    "sklearn_result_pc = pd.DataFrame(sklearn_pca, columns = ['pc1', 'pc2']) # 총 2차원으로 데이터 변환\n",
    "\n",
    "# PCA를 사용하여 축소한 데이터를 사용\n",
    "# k-means에서  K의 값은 SSE의 추이를 그래프로 보고 선택한다.\n",
    "def elbow(X):\n",
    "    sse = []\n",
    "    max_cluster = 30\n",
    "    for i in range(1, max_cluster):\n",
    "        km = KMeans(n_clusters = i, init = 'k-means++', random_state = 0)\n",
    "        km.fit(X)\n",
    "        sse.append(km.inertia_)\n",
    "    plt.plot(range(1, max_cluster), sse, marker='o')\n",
    "    plt.xlabel('클러스터 개수')\n",
    "    plt.ylabel('SSE')\n",
    "    plt.show()\n",
    "\n",
    "elbow(sklearn_pca)"
   ]
  }
 ],
 "metadata": {
  "kernelspec": {
   "display_name": "Python 3",
   "language": "python",
   "name": "python3"
  },
  "language_info": {
   "codemirror_mode": {
    "name": "ipython",
    "version": 3
   },
   "file_extension": ".py",
   "mimetype": "text/x-python",
   "name": "python",
   "nbconvert_exporter": "python",
   "pygments_lexer": "ipython3",
   "version": "3.6.4"
  }
 },
 "nbformat": 4,
 "nbformat_minor": 2
}
